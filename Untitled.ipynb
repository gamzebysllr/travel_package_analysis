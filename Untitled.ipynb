{
 "cells": [
  {
   "cell_type": "code",
   "execution_count": 3,
   "id": "22f1fcae",
   "metadata": {},
   "outputs": [
    {
     "name": "stdout",
     "output_type": "stream",
     "text": [
      "Requirement already satisfied: simpletransformers in /Users/mac/opt/anaconda3/lib/python3.8/site-packages (0.63.7)\n",
      "Requirement already satisfied: datasets in /Users/mac/opt/anaconda3/lib/python3.8/site-packages (from simpletransformers) (2.3.2)\n",
      "Requirement already satisfied: sentencepiece in /Users/mac/opt/anaconda3/lib/python3.8/site-packages (from simpletransformers) (0.1.96)\n",
      "Requirement already satisfied: scipy in /Users/mac/opt/anaconda3/lib/python3.8/site-packages (from simpletransformers) (1.6.2)\n",
      "Requirement already satisfied: pandas in /Users/mac/opt/anaconda3/lib/python3.8/site-packages (from simpletransformers) (1.2.4)\n",
      "Requirement already satisfied: seqeval in /Users/mac/opt/anaconda3/lib/python3.8/site-packages (from simpletransformers) (1.2.2)\n",
      "Requirement already satisfied: streamlit in /Users/mac/opt/anaconda3/lib/python3.8/site-packages (from simpletransformers) (1.10.0)\n",
      "Requirement already satisfied: scikit-learn in /Users/mac/opt/anaconda3/lib/python3.8/site-packages (from simpletransformers) (0.24.1)\n",
      "Requirement already satisfied: tokenizers in /Users/mac/opt/anaconda3/lib/python3.8/site-packages (from simpletransformers) (0.12.1)\n",
      "Requirement already satisfied: tqdm>=4.47.0 in /Users/mac/opt/anaconda3/lib/python3.8/site-packages (from simpletransformers) (4.64.0)\n",
      "Requirement already satisfied: numpy in /Users/mac/opt/anaconda3/lib/python3.8/site-packages (from simpletransformers) (1.20.1)\n",
      "Requirement already satisfied: regex in /Users/mac/opt/anaconda3/lib/python3.8/site-packages (from simpletransformers) (2021.4.4)\n",
      "Requirement already satisfied: requests in /Users/mac/opt/anaconda3/lib/python3.8/site-packages (from simpletransformers) (2.25.1)\n",
      "Requirement already satisfied: transformers>=4.6.0 in /Users/mac/opt/anaconda3/lib/python3.8/site-packages (from simpletransformers) (4.20.0)\n",
      "Requirement already satisfied: tensorboard in /Users/mac/opt/anaconda3/lib/python3.8/site-packages (from simpletransformers) (2.9.1)\n",
      "Requirement already satisfied: wandb>=0.10.32 in /Users/mac/opt/anaconda3/lib/python3.8/site-packages (from simpletransformers) (0.12.18)\n",
      "Requirement already satisfied: filelock in /Users/mac/opt/anaconda3/lib/python3.8/site-packages (from transformers>=4.6.0->simpletransformers) (3.0.12)\n",
      "Requirement already satisfied: huggingface-hub<1.0,>=0.1.0 in /Users/mac/opt/anaconda3/lib/python3.8/site-packages (from transformers>=4.6.0->simpletransformers) (0.7.0)\n",
      "Requirement already satisfied: packaging>=20.0 in /Users/mac/opt/anaconda3/lib/python3.8/site-packages (from transformers>=4.6.0->simpletransformers) (20.9)\n",
      "Requirement already satisfied: pyyaml>=5.1 in /Users/mac/opt/anaconda3/lib/python3.8/site-packages (from transformers>=4.6.0->simpletransformers) (5.4.1)\n",
      "Requirement already satisfied: typing-extensions>=3.7.4.3 in /Users/mac/opt/anaconda3/lib/python3.8/site-packages (from huggingface-hub<1.0,>=0.1.0->transformers>=4.6.0->simpletransformers) (4.2.0)\n",
      "Requirement already satisfied: pyparsing>=2.0.2 in /Users/mac/opt/anaconda3/lib/python3.8/site-packages (from packaging>=20.0->transformers>=4.6.0->simpletransformers) (2.4.7)\n",
      "Requirement already satisfied: shortuuid>=0.5.0 in /Users/mac/opt/anaconda3/lib/python3.8/site-packages (from wandb>=0.10.32->simpletransformers) (1.0.9)\n",
      "Requirement already satisfied: docker-pycreds>=0.4.0 in /Users/mac/opt/anaconda3/lib/python3.8/site-packages (from wandb>=0.10.32->simpletransformers) (0.4.0)\n",
      "Requirement already satisfied: GitPython>=1.0.0 in /Users/mac/opt/anaconda3/lib/python3.8/site-packages (from wandb>=0.10.32->simpletransformers) (3.1.27)\n",
      "Requirement already satisfied: promise<3,>=2.0 in /Users/mac/opt/anaconda3/lib/python3.8/site-packages (from wandb>=0.10.32->simpletransformers) (2.3)\n",
      "Requirement already satisfied: six>=1.13.0 in /Users/mac/opt/anaconda3/lib/python3.8/site-packages (from wandb>=0.10.32->simpletransformers) (1.15.0)\n",
      "Requirement already satisfied: psutil>=5.0.0 in /Users/mac/opt/anaconda3/lib/python3.8/site-packages (from wandb>=0.10.32->simpletransformers) (5.8.0)\n",
      "Requirement already satisfied: protobuf<4.0dev,>=3.12.0 in /Users/mac/opt/anaconda3/lib/python3.8/site-packages (from wandb>=0.10.32->simpletransformers) (3.19.4)\n",
      "Requirement already satisfied: pathtools in /Users/mac/opt/anaconda3/lib/python3.8/site-packages (from wandb>=0.10.32->simpletransformers) (0.1.2)\n",
      "Requirement already satisfied: setuptools in /Users/mac/opt/anaconda3/lib/python3.8/site-packages (from wandb>=0.10.32->simpletransformers) (52.0.0.post20210125)\n",
      "Requirement already satisfied: sentry-sdk>=1.0.0 in /Users/mac/opt/anaconda3/lib/python3.8/site-packages (from wandb>=0.10.32->simpletransformers) (1.5.12)\n",
      "Requirement already satisfied: setproctitle in /Users/mac/opt/anaconda3/lib/python3.8/site-packages (from wandb>=0.10.32->simpletransformers) (1.2.3)\n",
      "Requirement already satisfied: Click!=8.0.0,>=7.0 in /Users/mac/opt/anaconda3/lib/python3.8/site-packages (from wandb>=0.10.32->simpletransformers) (7.1.2)\n",
      "Requirement already satisfied: gitdb<5,>=4.0.1 in /Users/mac/opt/anaconda3/lib/python3.8/site-packages (from GitPython>=1.0.0->wandb>=0.10.32->simpletransformers) (4.0.9)\n",
      "Requirement already satisfied: smmap<6,>=3.0.1 in /Users/mac/opt/anaconda3/lib/python3.8/site-packages (from gitdb<5,>=4.0.1->GitPython>=1.0.0->wandb>=0.10.32->simpletransformers) (5.0.0)\n",
      "Requirement already satisfied: chardet<5,>=3.0.2 in /Users/mac/opt/anaconda3/lib/python3.8/site-packages (from requests->simpletransformers) (4.0.0)\n",
      "Requirement already satisfied: certifi>=2017.4.17 in /Users/mac/opt/anaconda3/lib/python3.8/site-packages (from requests->simpletransformers) (2020.12.5)\n",
      "Requirement already satisfied: urllib3<1.27,>=1.21.1 in /Users/mac/opt/anaconda3/lib/python3.8/site-packages (from requests->simpletransformers) (1.26.4)\n",
      "Requirement already satisfied: idna<3,>=2.5 in /Users/mac/opt/anaconda3/lib/python3.8/site-packages (from requests->simpletransformers) (2.10)\n",
      "^C\n",
      "\u001b[31mERROR: Operation cancelled by user\u001b[0m\n"
     ]
    }
   ],
   "source": [
    "!pip install simpletransformers"
   ]
  },
  {
   "cell_type": "code",
   "execution_count": null,
   "id": "73a25b22",
   "metadata": {},
   "outputs": [],
   "source": []
  }
 ],
 "metadata": {
  "kernelspec": {
   "display_name": "Python 3",
   "language": "python",
   "name": "python3"
  },
  "language_info": {
   "codemirror_mode": {
    "name": "ipython",
    "version": 3
   },
   "file_extension": ".py",
   "mimetype": "text/x-python",
   "name": "python",
   "nbconvert_exporter": "python",
   "pygments_lexer": "ipython3",
   "version": "3.8.8"
  }
 },
 "nbformat": 4,
 "nbformat_minor": 5
}
